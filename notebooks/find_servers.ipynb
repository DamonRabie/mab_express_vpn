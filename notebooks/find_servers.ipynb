{
 "cells": [
  {
   "cell_type": "markdown",
   "source": [
    "# Setup"
   ],
   "metadata": {
    "collapsed": false
   }
  },
  {
   "cell_type": "code",
   "execution_count": 1,
   "outputs": [],
   "source": [],
   "metadata": {
    "collapsed": false,
    "ExecuteTime": {
     "end_time": "2023-09-27T13:29:06.408932525Z",
     "start_time": "2023-09-27T13:29:06.387370783Z"
    }
   }
  },
  {
   "cell_type": "code",
   "execution_count": 53,
   "outputs": [],
   "source": [
    "import subprocess\n",
    "\n",
    "\n",
    "def _get_server_lists():\n",
    "    output = subprocess.run([\"expressvpn list all | awk '{print $1}' | sed -n '3,$p'\"], shell=True, capture_output=True,\n",
    "                            text=True)\n",
    "    output = output.stdout.strip().split('\\n')\n",
    "    output = [item for item in output if item != \"\"]\n",
    "    return output\n",
    "\n",
    "\n",
    "def _get_expressvpn_status():\n",
    "    output = subprocess.run([\"expressvpn status\"], shell=True, capture_output=True, text=True)\n",
    "    output = output.stdout.lower()\n",
    "    print('Status', output)\n",
    "    return output\n",
    "\n",
    "\n",
    "def check_server_connection(server_alias):\n",
    "    try:\n",
    "        if 'not connected' not in _get_expressvpn_status():\n",
    "            print(\"disconnected\")\n",
    "            subprocess.run(\"expressvpn disconnect\", shell=True, capture_output=False)\n",
    "\n",
    "        subprocess.run(f'expressvpn connect \"{server_alias}\"', shell=True, capture_output=False)\n",
    "        status = _get_expressvpn_status()\n",
    "\n",
    "        if 'connected to' in status:\n",
    "            return True\n",
    "        elif 'connecting' in status:\n",
    "            print('still connecting')\n",
    "            subprocess.run(\"expressvpn disconnect\", shell=True, capture_output=False)\n",
    "            return False\n",
    "        else:\n",
    "            return False\n",
    "    except Exception as e:\n",
    "        print(f\"An error occurred: {str(e)}\")\n",
    "        return False"
   ],
   "metadata": {
    "collapsed": false,
    "ExecuteTime": {
     "end_time": "2023-09-29T15:37:14.947938948Z",
     "start_time": "2023-09-29T15:37:14.901467064Z"
    }
   }
  },
  {
   "cell_type": "code",
   "execution_count": 54,
   "outputs": [],
   "source": [
    "server_aliases = _get_server_lists()"
   ],
   "metadata": {
    "collapsed": false,
    "ExecuteTime": {
     "end_time": "2023-09-29T15:37:16.291519416Z",
     "start_time": "2023-09-29T15:37:16.251827970Z"
    }
   }
  },
  {
   "cell_type": "code",
   "execution_count": 55,
   "outputs": [
    {
     "name": "stdout",
     "output_type": "stream",
     "text": [
      "Check smart\n",
      "Status not connected\n",
      "\n",
      "\u001B[?25lConnecting to Smart Location...\n",
      "Connecting to Germany - Frankfurt - 1...\t15.0%\u001B[0;33;49m\n",
      "\u001B[0m\u001B[?25hStatus \n",
      "Check sgju\n",
      "Status \n",
      "disconnected\n",
      "\u001B[?25l"
     ]
    },
    {
     "name": "stderr",
     "output_type": "stream",
     "text": [
      "\u001B[0;31;49mUnable to connect to Germany - Frankfurt - 1\u001B[0m\n",
      "\n",
      "   - Check that your Internet connection is working and try to connect again.\n",
      "   - Try connect to another VPN location.\n",
      "   - Switch to another protocol\n",
      "\u001B[0;31;49mDisconnected.\u001B[0m\n"
     ]
    },
    {
     "name": "stdout",
     "output_type": "stream",
     "text": [
      "Connecting to Singapore - Jurong...\t15.0%\u001B[0;33;49m\n",
      "\u001B[0m\u001B[?25hStatus \n",
      "Check sgcb\n",
      "Status \n",
      "disconnected\n",
      "\u001B[?25l"
     ]
    },
    {
     "name": "stderr",
     "output_type": "stream",
     "text": [
      "\u001B[0;31;49mUnable to connect to Singapore - Jurong\u001B[0m\n",
      "\n",
      "   - Check that your Internet connection is working and try to connect again.\n",
      "   - Try connect to another VPN location.\n",
      "   - Switch to another protocol\n",
      "\u001B[0;31;49mDisconnected.\u001B[0m\n"
     ]
    },
    {
     "name": "stdout",
     "output_type": "stream",
     "text": [
      "Connecting to Singapore - CBD...\t15.0%"
     ]
    },
    {
     "name": "stderr",
     "output_type": "stream",
     "text": [
      "\u001B[0;31;49mUnable to connect to Singapore - CBD\u001B[0m\n",
      "\n",
      "   - Check that your Internet connection is working and try to connect again.\n",
      "   - Try connect to another VPN location.\n",
      "   - Switch to another protocol\n",
      "\u001B[0;31;49mDisconnected.\u001B[0m\n"
     ]
    },
    {
     "name": "stdout",
     "output_type": "stream",
     "text": [
      "\u001B[0;33;49m\n",
      "\u001B[0m\u001B[?25hStatus \n",
      "Check sgmb\n",
      "Status \n",
      "disconnected\n",
      "Connecting to Singapore - Marina Bay...\t100.0%\u001B[0;33;49m\n",
      "\u001B[0m\u001B[1;32;49mConnected to Singapore - Marina Bay\n",
      "\u001B[0m\n",
      "   - To check your connection status, type 'expressvpn status'.\n",
      "   - To protect your privacy if your VPN connection unexpectedly drops, you can enable Network Lock by typing 'expressvpn preferences set network_lock on'.\n",
      "\u001B[?25hStatus \u001B[1;32;49mconnected to singapore - marina bay\n",
      "\u001B[0m\n",
      "   - to protect your privacy if your vpn connection unexpectedly drops, you can enable network lock by typing 'expressvpn preferences set network_lock on'.\n",
      "\n",
      "**************** WORKS ********************\n"
     ]
    }
   ],
   "source": [
    "for server in server_aliases:\n",
    "    print('Check', server)\n",
    "    result = check_server_connection(server)\n",
    "    if result:\n",
    "        print('**************** WORKS ********************')\n",
    "        break"
   ],
   "metadata": {
    "collapsed": false,
    "ExecuteTime": {
     "end_time": "2023-09-29T15:39:19.075445874Z",
     "start_time": "2023-09-29T15:37:18.363888201Z"
    }
   }
  },
  {
   "cell_type": "code",
   "execution_count": 30,
   "outputs": [
    {
     "name": "stderr",
     "output_type": "stream",
     "text": [
      "\u001B[0;31;49mDisconnected.\u001B[0m\n"
     ]
    }
   ],
   "source": [
    "server_alias = \"Singapore - Marina Bay\"\n",
    "# server_alias = \"smart\"\n",
    "\n",
    "_ = subprocess.call(\"expressvpn disconnect\", shell=True)\n",
    "connect_command = f'expressvpn connect \"{server_alias}\"'\n",
    "try:\n",
    "    output = subprocess.check_output(connect_command, shell=True, stderr=subprocess.STDOUT, universal_newlines=True)\n",
    "    success = True\n",
    "except subprocess.CalledProcessError:\n",
    "    success = False"
   ],
   "metadata": {
    "collapsed": false,
    "ExecuteTime": {
     "end_time": "2023-09-29T09:24:03.669695881Z",
     "start_time": "2023-09-29T09:23:54.729756961Z"
    }
   }
  },
  {
   "cell_type": "code",
   "execution_count": 39,
   "outputs": [
    {
     "name": "stdout",
     "output_type": "stream",
     "text": [
      "disconnected\n",
      "\u001B[1;33;49mDisconnecting...\u001B[0m\n",
      "\u001B[1;33;49mDisconnected.\u001B[0m\n"
     ]
    },
    {
     "ename": "KeyboardInterrupt",
     "evalue": "",
     "output_type": "error",
     "traceback": [
      "\u001B[0;31m---------------------------------------------------------------------------\u001B[0m",
      "\u001B[0;31mKeyboardInterrupt\u001B[0m                         Traceback (most recent call last)",
      "Cell \u001B[0;32mIn[39], line 10\u001B[0m\n\u001B[1;32m      7\u001B[0m     \u001B[38;5;28mprint\u001B[39m(\u001B[38;5;124m\"\u001B[39m\u001B[38;5;124mdisconnected\u001B[39m\u001B[38;5;124m\"\u001B[39m)\n\u001B[1;32m      8\u001B[0m     _ \u001B[38;5;241m=\u001B[39m subprocess\u001B[38;5;241m.\u001B[39mcall(\u001B[38;5;124m\"\u001B[39m\u001B[38;5;124mexpressvpn disconnect\u001B[39m\u001B[38;5;124m\"\u001B[39m, shell\u001B[38;5;241m=\u001B[39m\u001B[38;5;28;01mTrue\u001B[39;00m)\n\u001B[0;32m---> 10\u001B[0m _ \u001B[38;5;241m=\u001B[39m \u001B[43msubprocess\u001B[49m\u001B[38;5;241;43m.\u001B[39;49m\u001B[43mcheck_output\u001B[49m\u001B[43m(\u001B[49m\u001B[43mconnect_command\u001B[49m\u001B[43m,\u001B[49m\u001B[43m \u001B[49m\u001B[43mshell\u001B[49m\u001B[38;5;241;43m=\u001B[39;49m\u001B[38;5;28;43;01mTrue\u001B[39;49;00m\u001B[43m)\u001B[49m\n\u001B[1;32m     11\u001B[0m status \u001B[38;5;241m=\u001B[39m _get_expressvpn_status()\n\u001B[1;32m     13\u001B[0m \u001B[38;5;28;01mif\u001B[39;00m \u001B[38;5;124m'\u001B[39m\u001B[38;5;124mconnected to\u001B[39m\u001B[38;5;124m'\u001B[39m \u001B[38;5;129;01min\u001B[39;00m status\u001B[38;5;241m.\u001B[39mlower():\n",
      "File \u001B[0;32m/usr/lib/python3.10/subprocess.py:421\u001B[0m, in \u001B[0;36mcheck_output\u001B[0;34m(timeout, *popenargs, **kwargs)\u001B[0m\n\u001B[1;32m    418\u001B[0m         empty \u001B[38;5;241m=\u001B[39m \u001B[38;5;124mb\u001B[39m\u001B[38;5;124m'\u001B[39m\u001B[38;5;124m'\u001B[39m\n\u001B[1;32m    419\u001B[0m     kwargs[\u001B[38;5;124m'\u001B[39m\u001B[38;5;124minput\u001B[39m\u001B[38;5;124m'\u001B[39m] \u001B[38;5;241m=\u001B[39m empty\n\u001B[0;32m--> 421\u001B[0m \u001B[38;5;28;01mreturn\u001B[39;00m \u001B[43mrun\u001B[49m\u001B[43m(\u001B[49m\u001B[38;5;241;43m*\u001B[39;49m\u001B[43mpopenargs\u001B[49m\u001B[43m,\u001B[49m\u001B[43m \u001B[49m\u001B[43mstdout\u001B[49m\u001B[38;5;241;43m=\u001B[39;49m\u001B[43mPIPE\u001B[49m\u001B[43m,\u001B[49m\u001B[43m \u001B[49m\u001B[43mtimeout\u001B[49m\u001B[38;5;241;43m=\u001B[39;49m\u001B[43mtimeout\u001B[49m\u001B[43m,\u001B[49m\u001B[43m \u001B[49m\u001B[43mcheck\u001B[49m\u001B[38;5;241;43m=\u001B[39;49m\u001B[38;5;28;43;01mTrue\u001B[39;49;00m\u001B[43m,\u001B[49m\n\u001B[1;32m    422\u001B[0m \u001B[43m           \u001B[49m\u001B[38;5;241;43m*\u001B[39;49m\u001B[38;5;241;43m*\u001B[39;49m\u001B[43mkwargs\u001B[49m\u001B[43m)\u001B[49m\u001B[38;5;241m.\u001B[39mstdout\n",
      "File \u001B[0;32m/usr/lib/python3.10/subprocess.py:505\u001B[0m, in \u001B[0;36mrun\u001B[0;34m(input, capture_output, timeout, check, *popenargs, **kwargs)\u001B[0m\n\u001B[1;32m    503\u001B[0m \u001B[38;5;28;01mwith\u001B[39;00m Popen(\u001B[38;5;241m*\u001B[39mpopenargs, \u001B[38;5;241m*\u001B[39m\u001B[38;5;241m*\u001B[39mkwargs) \u001B[38;5;28;01mas\u001B[39;00m process:\n\u001B[1;32m    504\u001B[0m     \u001B[38;5;28;01mtry\u001B[39;00m:\n\u001B[0;32m--> 505\u001B[0m         stdout, stderr \u001B[38;5;241m=\u001B[39m \u001B[43mprocess\u001B[49m\u001B[38;5;241;43m.\u001B[39;49m\u001B[43mcommunicate\u001B[49m\u001B[43m(\u001B[49m\u001B[38;5;28;43minput\u001B[39;49m\u001B[43m,\u001B[49m\u001B[43m \u001B[49m\u001B[43mtimeout\u001B[49m\u001B[38;5;241;43m=\u001B[39;49m\u001B[43mtimeout\u001B[49m\u001B[43m)\u001B[49m\n\u001B[1;32m    506\u001B[0m     \u001B[38;5;28;01mexcept\u001B[39;00m TimeoutExpired \u001B[38;5;28;01mas\u001B[39;00m exc:\n\u001B[1;32m    507\u001B[0m         process\u001B[38;5;241m.\u001B[39mkill()\n",
      "File \u001B[0;32m/usr/lib/python3.10/subprocess.py:1141\u001B[0m, in \u001B[0;36mPopen.communicate\u001B[0;34m(self, input, timeout)\u001B[0m\n\u001B[1;32m   1139\u001B[0m     \u001B[38;5;28mself\u001B[39m\u001B[38;5;241m.\u001B[39m_stdin_write(\u001B[38;5;28minput\u001B[39m)\n\u001B[1;32m   1140\u001B[0m \u001B[38;5;28;01melif\u001B[39;00m \u001B[38;5;28mself\u001B[39m\u001B[38;5;241m.\u001B[39mstdout:\n\u001B[0;32m-> 1141\u001B[0m     stdout \u001B[38;5;241m=\u001B[39m \u001B[38;5;28;43mself\u001B[39;49m\u001B[38;5;241;43m.\u001B[39;49m\u001B[43mstdout\u001B[49m\u001B[38;5;241;43m.\u001B[39;49m\u001B[43mread\u001B[49m\u001B[43m(\u001B[49m\u001B[43m)\u001B[49m\n\u001B[1;32m   1142\u001B[0m     \u001B[38;5;28mself\u001B[39m\u001B[38;5;241m.\u001B[39mstdout\u001B[38;5;241m.\u001B[39mclose()\n\u001B[1;32m   1143\u001B[0m \u001B[38;5;28;01melif\u001B[39;00m \u001B[38;5;28mself\u001B[39m\u001B[38;5;241m.\u001B[39mstderr:\n",
      "\u001B[0;31mKeyboardInterrupt\u001B[0m: "
     ]
    }
   ],
   "source": [
    "\n",
    "\n",
    "\n",
    "\n",
    "success"
   ],
   "metadata": {
    "collapsed": false,
    "ExecuteTime": {
     "end_time": "2023-09-29T09:34:46.871581761Z",
     "start_time": "2023-09-29T09:32:57.035687246Z"
    }
   }
  },
  {
   "cell_type": "code",
   "execution_count": 40,
   "outputs": [
    {
     "data": {
      "text/plain": "'not connected\\n'"
     },
     "execution_count": 40,
     "metadata": {},
     "output_type": "execute_result"
    }
   ],
   "source": [
    "_get_expressvpn_status()"
   ],
   "metadata": {
    "collapsed": false,
    "ExecuteTime": {
     "end_time": "2023-09-29T09:34:52.152167791Z",
     "start_time": "2023-09-29T09:34:52.130720289Z"
    }
   }
  },
  {
   "cell_type": "code",
   "execution_count": 8,
   "outputs": [
    {
     "ename": "KeyboardInterrupt",
     "evalue": "",
     "output_type": "error",
     "traceback": [
      "\u001B[0;31m---------------------------------------------------------------------------\u001B[0m",
      "\u001B[0;31mKeyboardInterrupt\u001B[0m                         Traceback (most recent call last)",
      "Cell \u001B[0;32mIn[8], line 2\u001B[0m\n\u001B[1;32m      1\u001B[0m command_to_run \u001B[38;5;241m=\u001B[39m \u001B[38;5;124m'\u001B[39m\u001B[38;5;124mexpressvpn connect \u001B[39m\u001B[38;5;124m\"\u001B[39m\u001B[38;5;124mSingapore - Marina Bay\u001B[39m\u001B[38;5;124m\"\u001B[39m\u001B[38;5;124m & sleep 20\u001B[39m\u001B[38;5;124m'\u001B[39m\n\u001B[0;32m----> 2\u001B[0m result \u001B[38;5;241m=\u001B[39m \u001B[43mrun_ubuntu_command\u001B[49m\u001B[43m(\u001B[49m\u001B[43mcommand_to_run\u001B[49m\u001B[43m)\u001B[49m\n\u001B[1;32m      3\u001B[0m run_ubuntu_command(\u001B[38;5;124m\"\u001B[39m\u001B[38;5;124mexpressvpn disconnect\u001B[39m\u001B[38;5;124m\"\u001B[39m)\n\u001B[1;32m      4\u001B[0m \u001B[38;5;28mprint\u001B[39m(result)\n",
      "Cell \u001B[0;32mIn[1], line 16\u001B[0m, in \u001B[0;36mrun_ubuntu_command\u001B[0;34m(command)\u001B[0m\n\u001B[1;32m      6\u001B[0m process \u001B[38;5;241m=\u001B[39m subprocess\u001B[38;5;241m.\u001B[39mPopen(\n\u001B[1;32m      7\u001B[0m     command,\n\u001B[1;32m      8\u001B[0m     shell\u001B[38;5;241m=\u001B[39m\u001B[38;5;28;01mTrue\u001B[39;00m,\n\u001B[0;32m   (...)\u001B[0m\n\u001B[1;32m     12\u001B[0m     universal_newlines\u001B[38;5;241m=\u001B[39m\u001B[38;5;28;01mTrue\u001B[39;00m\n\u001B[1;32m     13\u001B[0m )\n\u001B[1;32m     15\u001B[0m \u001B[38;5;66;03m# Capture the output and error messages\u001B[39;00m\n\u001B[0;32m---> 16\u001B[0m output, errors \u001B[38;5;241m=\u001B[39m \u001B[43mprocess\u001B[49m\u001B[38;5;241;43m.\u001B[39;49m\u001B[43mcommunicate\u001B[49m\u001B[43m(\u001B[49m\u001B[38;5;28;43minput\u001B[39;49m\u001B[38;5;241;43m=\u001B[39;49m\u001B[38;5;124;43m'\u001B[39;49m\u001B[38;5;130;43;01m\\n\u001B[39;49;00m\u001B[38;5;124;43m'\u001B[39;49m\u001B[43m)\u001B[49m  \u001B[38;5;66;03m# Sending a newline to handle prompts\u001B[39;00m\n\u001B[1;32m     18\u001B[0m \u001B[38;5;66;03m# Check if the command was successful\u001B[39;00m\n\u001B[1;32m     19\u001B[0m \u001B[38;5;28;01mif\u001B[39;00m process\u001B[38;5;241m.\u001B[39mreturncode \u001B[38;5;241m==\u001B[39m \u001B[38;5;241m0\u001B[39m:\n",
      "File \u001B[0;32m/usr/lib/python3.10/subprocess.py:1154\u001B[0m, in \u001B[0;36mPopen.communicate\u001B[0;34m(self, input, timeout)\u001B[0m\n\u001B[1;32m   1151\u001B[0m     endtime \u001B[38;5;241m=\u001B[39m \u001B[38;5;28;01mNone\u001B[39;00m\n\u001B[1;32m   1153\u001B[0m \u001B[38;5;28;01mtry\u001B[39;00m:\n\u001B[0;32m-> 1154\u001B[0m     stdout, stderr \u001B[38;5;241m=\u001B[39m \u001B[38;5;28;43mself\u001B[39;49m\u001B[38;5;241;43m.\u001B[39;49m\u001B[43m_communicate\u001B[49m\u001B[43m(\u001B[49m\u001B[38;5;28;43minput\u001B[39;49m\u001B[43m,\u001B[49m\u001B[43m \u001B[49m\u001B[43mendtime\u001B[49m\u001B[43m,\u001B[49m\u001B[43m \u001B[49m\u001B[43mtimeout\u001B[49m\u001B[43m)\u001B[49m\n\u001B[1;32m   1155\u001B[0m \u001B[38;5;28;01mexcept\u001B[39;00m \u001B[38;5;167;01mKeyboardInterrupt\u001B[39;00m:\n\u001B[1;32m   1156\u001B[0m     \u001B[38;5;66;03m# https://bugs.python.org/issue25942\u001B[39;00m\n\u001B[1;32m   1157\u001B[0m     \u001B[38;5;66;03m# See the detailed comment in .wait().\u001B[39;00m\n\u001B[1;32m   1158\u001B[0m     \u001B[38;5;28;01mif\u001B[39;00m timeout \u001B[38;5;129;01mis\u001B[39;00m \u001B[38;5;129;01mnot\u001B[39;00m \u001B[38;5;28;01mNone\u001B[39;00m:\n",
      "File \u001B[0;32m/usr/lib/python3.10/subprocess.py:2021\u001B[0m, in \u001B[0;36mPopen._communicate\u001B[0;34m(self, input, endtime, orig_timeout)\u001B[0m\n\u001B[1;32m   2014\u001B[0m     \u001B[38;5;28mself\u001B[39m\u001B[38;5;241m.\u001B[39m_check_timeout(endtime, orig_timeout,\n\u001B[1;32m   2015\u001B[0m                         stdout, stderr,\n\u001B[1;32m   2016\u001B[0m                         skip_check_and_raise\u001B[38;5;241m=\u001B[39m\u001B[38;5;28;01mTrue\u001B[39;00m)\n\u001B[1;32m   2017\u001B[0m     \u001B[38;5;28;01mraise\u001B[39;00m \u001B[38;5;167;01mRuntimeError\u001B[39;00m(  \u001B[38;5;66;03m# Impossible :)\u001B[39;00m\n\u001B[1;32m   2018\u001B[0m         \u001B[38;5;124m'\u001B[39m\u001B[38;5;124m_check_timeout(..., skip_check_and_raise=True) \u001B[39m\u001B[38;5;124m'\u001B[39m\n\u001B[1;32m   2019\u001B[0m         \u001B[38;5;124m'\u001B[39m\u001B[38;5;124mfailed to raise TimeoutExpired.\u001B[39m\u001B[38;5;124m'\u001B[39m)\n\u001B[0;32m-> 2021\u001B[0m ready \u001B[38;5;241m=\u001B[39m \u001B[43mselector\u001B[49m\u001B[38;5;241;43m.\u001B[39;49m\u001B[43mselect\u001B[49m\u001B[43m(\u001B[49m\u001B[43mtimeout\u001B[49m\u001B[43m)\u001B[49m\n\u001B[1;32m   2022\u001B[0m \u001B[38;5;28mself\u001B[39m\u001B[38;5;241m.\u001B[39m_check_timeout(endtime, orig_timeout, stdout, stderr)\n\u001B[1;32m   2024\u001B[0m \u001B[38;5;66;03m# XXX Rewrite these to use non-blocking I/O on the file\u001B[39;00m\n\u001B[1;32m   2025\u001B[0m \u001B[38;5;66;03m# objects; they are no longer using C stdio!\u001B[39;00m\n",
      "File \u001B[0;32m/usr/lib/python3.10/selectors.py:416\u001B[0m, in \u001B[0;36m_PollLikeSelector.select\u001B[0;34m(self, timeout)\u001B[0m\n\u001B[1;32m    414\u001B[0m ready \u001B[38;5;241m=\u001B[39m []\n\u001B[1;32m    415\u001B[0m \u001B[38;5;28;01mtry\u001B[39;00m:\n\u001B[0;32m--> 416\u001B[0m     fd_event_list \u001B[38;5;241m=\u001B[39m \u001B[38;5;28;43mself\u001B[39;49m\u001B[38;5;241;43m.\u001B[39;49m\u001B[43m_selector\u001B[49m\u001B[38;5;241;43m.\u001B[39;49m\u001B[43mpoll\u001B[49m\u001B[43m(\u001B[49m\u001B[43mtimeout\u001B[49m\u001B[43m)\u001B[49m\n\u001B[1;32m    417\u001B[0m \u001B[38;5;28;01mexcept\u001B[39;00m \u001B[38;5;167;01mInterruptedError\u001B[39;00m:\n\u001B[1;32m    418\u001B[0m     \u001B[38;5;28;01mreturn\u001B[39;00m ready\n",
      "\u001B[0;31mKeyboardInterrupt\u001B[0m: "
     ]
    }
   ],
   "source": [
    "command_to_run = 'expressvpn connect \"Singapore - Marina Bay\"'\n",
    "result = run_ubuntu_command(command_to_run)\n",
    "run_ubuntu_command(\"expressvpn disconnect\")\n",
    "print(result)"
   ],
   "metadata": {
    "collapsed": false,
    "ExecuteTime": {
     "end_time": "2023-09-29T08:32:26.063749679Z",
     "start_time": "2023-09-29T08:31:04.674089277Z"
    }
   }
  },
  {
   "cell_type": "code",
   "execution_count": 4,
   "outputs": [
    {
     "name": "stdout",
     "output_type": "stream",
     "text": [
      "smart\n",
      "sgju\n",
      "sgcb\n",
      "sgmb\n",
      "ukdo\n",
      "ukel\n",
      "uklo\n",
      "ukmi\n",
      "ukwe\n",
      "hk2\n",
      "hk1\n",
      "usny\n",
      "uswd\n",
      "usnj1\n",
      "usnj3\n",
      "usat\n",
      "usmi2\n",
      "usmi\n",
      "usda\n",
      "usch\n",
      "uslp\n",
      "usal\n",
      "ussf\n",
      "usla3\n",
      "usla2\n",
      "usse\n",
      "usde\n",
      "ussl1\n",
      "usta1\n",
      "usph\n",
      "usnj2\n",
      "usda2\n",
      "usla1\n",
      "usla5\n",
      "ussm\n",
      "jpto\n",
      "jpsh\n",
      "jpyo\n",
      "jpto2\n",
      "aume\n",
      "auwo\n",
      "ausy\n",
      "aupe\n",
      "aubr\n",
      "auad\n",
      "ausy2\n",
      "frma\n",
      "frpa2\n",
      "frpa1\n",
      "frst\n",
      "fral\n",
      "kr2\n",
      "ph\n",
      "my\n",
      "nlam\n",
      "nlth\n",
      "nlro\n",
      "inuk\n",
      "insi\n",
      "itco\n",
      "itmi\n",
      "itna\n",
      "lk\n",
      "pk\n",
      "ch\n",
      "ch2\n",
      "kz\n",
      "se\n",
      "se2\n",
      "defr1\n",
      "denu\n",
      "defr3\n",
      "th\n",
      "id\n",
      "nz\n",
      "tw3\n",
      "vn\n",
      "mo\n",
      "kh\n",
      "mn\n",
      "la\n",
      "mm\n",
      "np\n",
      "gu\n",
      "uz\n",
      "bd\n",
      "bt\n",
      "bnbr\n",
      "xv\n",
      "cato\n",
      "cava\n",
      "cato2\n",
      "camo\n",
      "mx\n",
      "br2\n",
      "br\n",
      "pa\n",
      "cl\n",
      "ar\n",
      "bo\n",
      "cr\n",
      "co\n",
      "ve\n",
      "ec\n",
      "gt\n",
      "pe\n",
      "uy\n",
      "bs\n",
      "jm\n",
      "ro\n",
      "im\n",
      "esma\n",
      "esba\n",
      "esba2\n",
      "tr\n",
      "ie\n",
      "is\n",
      "no\n",
      "dk\n",
      "be\n",
      "fi\n",
      "gr\n",
      "pt\n",
      "at\n",
      "am\n",
      "pl\n",
      "lt\n",
      "lv\n",
      "ee\n",
      "cz\n",
      "ad\n",
      "me\n",
      "ba\n",
      "lu\n",
      "hu\n",
      "bg\n",
      "by\n",
      "ua\n",
      "mt\n",
      "li\n",
      "cy\n",
      "al\n",
      "hr\n",
      "si\n",
      "sk\n",
      "mc\n",
      "je\n",
      "mk\n",
      "md\n",
      "rs\n",
      "ge\n",
      "gh\n",
      "lb\n",
      "ma\n",
      "za\n",
      "il\n",
      "eg\n",
      "dz\n",
      "ke\n"
     ]
    }
   ],
   "source": [
    "command_to_run = \"expressvpn list all | awk '{print $1}' | sed -n '3,$p'\"\n",
    "result = run_ubuntu_command(command_to_run)\n",
    "print(result)"
   ],
   "metadata": {
    "collapsed": false,
    "ExecuteTime": {
     "end_time": "2023-09-29T08:20:32.691876500Z",
     "start_time": "2023-09-29T08:20:32.647306596Z"
    }
   }
  },
  {
   "cell_type": "code",
   "execution_count": 17,
   "outputs": [],
   "source": [
    "server_aliases = result.strip().split('\\n')"
   ],
   "metadata": {
    "collapsed": false,
    "ExecuteTime": {
     "end_time": "2023-09-27T13:37:14.172270361Z",
     "start_time": "2023-09-27T13:37:14.163474Z"
    }
   }
  },
  {
   "cell_type": "code",
   "execution_count": 19,
   "outputs": [
    {
     "data": {
      "text/plain": "156"
     },
     "execution_count": 19,
     "metadata": {},
     "output_type": "execute_result"
    }
   ],
   "source": [
    "server_aliases"
   ],
   "metadata": {
    "collapsed": false,
    "ExecuteTime": {
     "end_time": "2023-09-27T13:37:27.824991221Z",
     "start_time": "2023-09-27T13:37:27.822424552Z"
    }
   }
  },
  {
   "cell_type": "code",
   "execution_count": 20,
   "outputs": [
    {
     "name": "stdout",
     "output_type": "stream",
     "text": [
      "Total reward: 112.72389135701094\n",
      "Action counts: [21. 73.  4.  1.  1.]\n",
      "Action values: [ 0.96877411  1.3394745  -0.20149013 -1.68544601 -2.28533069]\n"
     ]
    }
   ],
   "source": [
    "import numpy as np\n",
    "\n",
    "\n",
    "class MultiArmedBandit:\n",
    "    def __init__(self, num_arms, true_rewards):\n",
    "        self.num_arms = num_arms\n",
    "        self.true_rewards = true_rewards\n",
    "        self.action_counts = np.zeros(num_arms)\n",
    "        self.action_values = np.zeros(num_arms)\n",
    "        self.timestep = 0\n",
    "\n",
    "    def select_action(self):\n",
    "        # Calculate the upper confidence bound for each action\n",
    "        ucb_values = self.action_values + np.sqrt(2 * np.log(self.timestep + 1) / (self.action_counts + 1e-6))\n",
    "\n",
    "        # Select the action with the highest UCB value\n",
    "        action = np.argmax(ucb_values)\n",
    "        return action\n",
    "\n",
    "    def update(self, action):\n",
    "        # Generate a reward for the selected action\n",
    "        reward = np.random.normal(self.true_rewards[action], 1.0)\n",
    "\n",
    "        # Update action counts and action values\n",
    "        self.action_counts[action] += 1\n",
    "        self.timestep += 1\n",
    "        self.action_values[action] += (reward - self.action_values[action]) / self.action_counts[action]\n",
    "\n",
    "\n",
    "# Example usage:\n",
    "num_arms = 5\n",
    "true_rewards = np.random.normal(0, 1, num_arms)  # True reward values for each arm\n",
    "\n",
    "bandit = MultiArmedBandit(num_arms, true_rewards)\n",
    "\n",
    "num_steps = 100  # Number of time steps\n",
    "total_reward = 0\n",
    "\n",
    "for _ in range(num_steps):\n",
    "    action = bandit.select_action()\n",
    "    reward = np.random.normal(true_rewards[action], 1.0)\n",
    "    bandit.update(action)\n",
    "    total_reward += reward\n",
    "\n",
    "print(\"Total reward:\", total_reward)\n",
    "print(\"Action counts:\", bandit.action_counts)\n",
    "print(\"Action values:\", bandit.action_values)"
   ],
   "metadata": {
    "collapsed": false,
    "ExecuteTime": {
     "end_time": "2023-09-27T14:06:50.421658846Z",
     "start_time": "2023-09-27T14:06:50.319751530Z"
    }
   }
  },
  {
   "cell_type": "code",
   "execution_count": 21,
   "outputs": [],
   "source": [
    "import pickle\n",
    "\n",
    "with open('../data/bandit_state.pkl', 'wb') as file:\n",
    "    pickle.dump(bandit, file)"
   ],
   "metadata": {
    "collapsed": false,
    "ExecuteTime": {
     "end_time": "2023-09-27T14:07:11.009394688Z",
     "start_time": "2023-09-27T14:07:10.968443765Z"
    }
   }
  },
  {
   "cell_type": "code",
   "execution_count": 24,
   "outputs": [],
   "source": [
    "# Before running the bandit, check if a saved state file exists\n",
    "import os\n",
    "\n",
    "if os.path.exists('../data/bandit_state.pkl'):\n",
    "    with open('../data/bandit_state.pkl', 'rb') as file:\n",
    "        test = pickle.load(file)\n",
    "else:\n",
    "    # Create a new bandit if no saved state file exists\n",
    "    bandit = MultiArmedBandit(num_arms, true_rewards)\n"
   ],
   "metadata": {
    "collapsed": false,
    "ExecuteTime": {
     "end_time": "2023-09-27T14:08:14.469554505Z",
     "start_time": "2023-09-27T14:08:14.425869931Z"
    }
   }
  },
  {
   "cell_type": "code",
   "execution_count": 25,
   "outputs": [
    {
     "data": {
      "text/plain": "array([21., 73.,  4.,  1.,  1.])"
     },
     "execution_count": 25,
     "metadata": {},
     "output_type": "execute_result"
    }
   ],
   "source": [
    "test.value"
   ],
   "metadata": {
    "collapsed": false,
    "ExecuteTime": {
     "end_time": "2023-09-27T14:08:17.760882253Z",
     "start_time": "2023-09-27T14:08:17.759195741Z"
    }
   }
  },
  {
   "cell_type": "code",
   "execution_count": null,
   "outputs": [],
   "source": [
    "pickle.load()"
   ],
   "metadata": {
    "collapsed": false
   }
  },
  {
   "cell_type": "code",
   "execution_count": null,
   "outputs": [],
   "source": [],
   "metadata": {
    "collapsed": false
   }
  }
 ],
 "metadata": {
  "kernelspec": {
   "display_name": "Python 3",
   "language": "python",
   "name": "python3"
  },
  "language_info": {
   "codemirror_mode": {
    "name": "ipython",
    "version": 2
   },
   "file_extension": ".py",
   "mimetype": "text/x-python",
   "name": "python",
   "nbconvert_exporter": "python",
   "pygments_lexer": "ipython2",
   "version": "2.7.6"
  }
 },
 "nbformat": 4,
 "nbformat_minor": 0
}
